{
 "cells": [
  {
   "cell_type": "code",
   "execution_count": 1,
   "id": "769d9b07-3220-4e93-bacb-bec61f2f684a",
   "metadata": {},
   "outputs": [],
   "source": [
    "import pandas as pd\n",
    "import seaborn as sns\n",
    "import matplotlib.pyplot as plt"
   ]
  },
  {
   "cell_type": "code",
   "execution_count": 2,
   "id": "125fbe08-5d32-4059-85ca-8b8cea8a6b95",
   "metadata": {},
   "outputs": [],
   "source": [
    "df = pd.read_csv('/Users/pookay/Desktop/German_Credit_risk_analysis/dataset/german_credit_data.csv')"
   ]
  },
  {
   "cell_type": "raw",
   "id": "9d97a587-6f93-48a0-88e2-73b81739ca9d",
   "metadata": {},
   "source": [
    "df.info()"
   ]
  }
 ],
 "metadata": {
  "kernelspec": {
   "display_name": "Python 3 (ipykernel)",
   "language": "python",
   "name": "python3"
  },
  "language_info": {
   "codemirror_mode": {
    "name": "ipython",
    "version": 3
   },
   "file_extension": ".py",
   "mimetype": "text/x-python",
   "name": "python",
   "nbconvert_exporter": "python",
   "pygments_lexer": "ipython3",
   "version": "3.13.1"
  }
 },
 "nbformat": 4,
 "nbformat_minor": 5
}
